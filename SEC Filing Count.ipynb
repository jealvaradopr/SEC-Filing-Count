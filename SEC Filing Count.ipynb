{
 "cells": [
  {
   "cell_type": "markdown",
   "metadata": {},
   "source": [
    "<b>This project focuses on writing a function that will open and read the SEC url. This will allow me to access the SEC server and count the number of filings given the three arguments of the function: year, quarter and pattern. OS, RE, urllib modules are used. Regular Expressions are also used to test the function. "
   ]
  },
  {
   "cell_type": "markdown",
   "metadata": {},
   "source": [
    "<b>Project 1: </b>Write a function <b>SEC_filing_count()</b> that has three arguments: $year$, $quarter$, and $pattern$. The goal is to count the number of filings in the SEC master.idx for that year and quarter for which the 'Company Name' entry satisfies the regular expression pattern.  This is perhaps best illustrated with an example.\n",
    "\n",
    "If I enter <b>SEC_filing_count(2012, 3, '\\d\\d')</b>, then I want the function to tell me how many of the Company Names in the 2012Q3 index contain two consecutive digits.\n",
    "\n",
    "- If ./Projects/master_2012Q3.txt does not already exist, you should use <b>urllib()</b> to 'try' to download 'https://www.sec.gov/Archives/edgar/full-index/2012/QTR3/master.idx' to './Projects/master_2012_Q3.txt'. (I recommend using absolute paths, but not hardcoding the absolute paths. For example, after you have used $year$ and $quarter$ to construct $destfile$, you can write something like: 'url_destfile = os.path.abspath(os.path.join('./', destfile))'.)\n",
    "- If './Projects/master_2012_Q3.txt' already exists, you should NOT ask <b>urllib()</b> to download it again. We want to be nice to the SEC servers.\n",
    "- When reading './Projects/master_2012Q3.txt' into Python as a list, you are welcome to create a list that only contains the 'Company Name' entry from each line. \n",
    "- Regardless of how much information you choose to retain from each line, please convert all letters in 'Company Name' to uppercase before performing the regex search.\n",
    "- In the example above, you would then use either <b>re.search()</b> or <b>findall()</b> to identify all company names that contain at least two consecutive digits.\n",
    "- If the number of regex matches is positive, return this number.\n",
    "- If there are no matches, return the number zero.\n",
    "- If the user requests an index that does not exist, such as <b>SEC_filing_count(1776, 4, '\\d\\d')</b>, return the number -1."
   ]
  },
  {
   "cell_type": "code",
   "execution_count": 1,
   "metadata": {},
   "outputs": [],
   "source": [
    "import os\n",
    "import re\n",
    "import urllib.request"
   ]
  },
  {
   "cell_type": "code",
   "execution_count": 2,
   "metadata": {},
   "outputs": [],
   "source": [
    "def SEC_filing_count(year, quarter, pattern): \n",
    "    os.getcwd() \n",
    "    absdir = os.getcwd() \n",
    "    os.chdir(absdir) \n",
    "    frompath = 'https://www.sec.gov/Archives/edgar/full-index/' + str(year) + '/QTR' + str(quarter) + '/master.idx'\n",
    "   \n",
    "    destpath = os.path.join(absdir,'Downloads')\n",
    "    try: \n",
    "        path = urllib.request.urlretrieve(frompath, destpath)  \n",
    "    except: \n",
    "        return -1\n",
    "    x = open(destpath, 'r')\n",
    "    lines = x.readlines() \n",
    "    x.close() \n",
    "    lines = lines[9:10] + lines[11:]\n",
    "    idx = []\n",
    "    for ele in lines: \n",
    "        (cik, name, form, date, filename) = ele.split('|')\n",
    "        idx.append((cik, name, form, date, filename)) \n",
    "        \n",
    "    n_list = [ele[1].replace('/','').upper() for ele in idx] \n",
    "    names = ', '.join(n_list)\n",
    "    matches = len(re.findall(pattern, names)) \n",
    "    if matches > 0: \n",
    "        return matches \n",
    "    if matches == 0: \n",
    "        return 0 \n",
    "    "
   ]
  },
  {
   "cell_type": "code",
   "execution_count": 3,
   "metadata": {},
   "outputs": [
    {
     "name": "stdout",
     "output_type": "stream",
     "text": [
      "-1\n",
      "0\n",
      "2629\n",
      "821\n",
      "52\n"
     ]
    }
   ],
   "source": [
    "print(SEC_filing_count(1900, 4, '\\d'))                  # This should return -1 because the year is wrong\n",
    "print(SEC_filing_count(2015, 2, '[a-z]{5}'))            # This should return 0 because Company Name is stored as uppercase\n",
    "print(SEC_filing_count(2012, 3, '(\\d{1,}\\W\\w{1,})'))    # This may or may not return a positive number of filings\n",
    "print(SEC_filing_count(2015, 2, 'GOLDMAN'))             # This should return a positive number of filings\n",
    "print(SEC_filing_count(2012, 3, 'LEHMAN'))              # This may or may not return a positive number of filings"
   ]
  }
 ],
 "metadata": {
  "kernelspec": {
   "display_name": "Python 3",
   "language": "python",
   "name": "python3"
  },
  "language_info": {
   "codemirror_mode": {
    "name": "ipython",
    "version": 3
   },
   "file_extension": ".py",
   "mimetype": "text/x-python",
   "name": "python",
   "nbconvert_exporter": "python",
   "pygments_lexer": "ipython3",
   "version": "3.8.3"
  }
 },
 "nbformat": 4,
 "nbformat_minor": 4
}
